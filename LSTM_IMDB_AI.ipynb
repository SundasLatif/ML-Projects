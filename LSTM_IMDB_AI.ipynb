{
 "cells": [
  {
   "cell_type": "code",
   "execution_count": 5,
   "metadata": {},
   "outputs": [],
   "source": [
    "import numpy as np\n",
    "from keras.datasets import imdb\n",
    "from keras.models import Sequential\n",
    "from keras.layers import Dense\n",
    "from keras.layers import LSTM\n",
    "from keras.layers.embeddings import Embedding\n",
    "from keras.preprocessing import sequence\n",
    "\n",
    "np.random.seed(7)"
   ]
  },
  {
   "cell_type": "code",
   "execution_count": 6,
   "metadata": {},
   "outputs": [],
   "source": [
    "top_words=100\n",
    "\n",
    "#(X_train,y_train),(X_test,y_test)=imdb.load_data(num_words=top_words,)\n",
    "\n",
    "np_load_old = np.load\n",
    "# modify the default parameters of np.load\n",
    "np.load = lambda *a,**k: np_load_old(*a, allow_pickle=True, **k)\n",
    "\n",
    "# call load_data with allow_pickle implicitly set to true\n",
    "(train_data, train_labels), (test_data, test_labels) = imdb.load_data(num_words=top_words)\n",
    "\n",
    "# restore np.load for future normal usage\n",
    "np.load = np_load_old"
   ]
  },
  {
   "cell_type": "code",
   "execution_count": 8,
   "metadata": {},
   "outputs": [],
   "source": [
    "X_train=train_data\n",
    "y_train=train_labels\n",
    "X_test=test_data\n",
    "y_test=test_labels"
   ]
  },
  {
   "cell_type": "code",
   "execution_count": 9,
   "metadata": {},
   "outputs": [
    {
     "name": "stdout",
     "output_type": "stream",
     "text": [
      "[1, 2, 2, 2, 2, 78, 2, 5, 6, 2, 2, 2, 2, 26, 4, 2, 8, 2, 2, 14, 2, 20, 13, 2, 2, 2, 2, 5, 2, 2, 2, 21, 14, 69, 2, 8, 30, 23, 7, 4, 2, 2, 93, 4, 2, 9, 2, 2, 5, 2, 4, 2, 9, 35, 2, 4, 2, 9, 2, 2, 4, 2, 9, 4, 2, 2, 19, 4, 2, 5, 89, 29, 2, 46, 37, 4, 2, 9, 45, 43, 38, 2, 2, 2, 4, 2, 26, 2, 5, 2, 11, 2, 2, 4, 2, 9, 2, 2, 7, 2, 2, 2, 2, 2, 2, 2, 2, 15, 2, 2, 68, 2, 2, 15, 2, 2, 2, 98, 5, 4, 2, 9, 43, 2, 2, 15, 2, 2, 5, 2, 2, 11, 2, 2, 2, 50, 9, 2, 2, 2, 5, 2, 2, 2, 2, 5, 4, 2, 2, 2, 2, 18, 2, 32, 2, 2, 14, 9, 6, 2, 78, 22, 2, 64, 2, 9, 8, 2, 2, 23, 4, 2, 15, 16, 4, 2, 5, 28, 6, 52, 2, 2, 33, 89, 78, 2, 16, 2, 95]\n",
      "<class 'list'>\n",
      "189\n"
     ]
    }
   ],
   "source": [
    "print(X_train[1]) # value will be less less than 100 we have limited the indexes\n",
    "print(type(X_train[1]))\n",
    "print(len(X_train[1]))"
   ]
  },
  {
   "cell_type": "code",
   "execution_count": 10,
   "metadata": {},
   "outputs": [
    {
     "name": "stdout",
     "output_type": "stream",
     "text": [
      "(25000, 300)\n",
      "[ 0  0  0  0  0  0  0  0  0  0  0  0  0  0  0  0  0  0  0  0  0  0  0  0\n",
      "  0  0  0  0  0  0  0  0  0  0  0  0  0  0  0  0  0  0  0  0  0  0  0  0\n",
      "  0  0  0  0  0  0  0  0  0  0  0  0  0  0  0  0  0  0  0  0  0  0  0  0\n",
      "  0  0  0  0  0  0  0  0  0  0  0  0  0  0  0  0  0  0  0  0  0  0  0  0\n",
      "  0  0  0  0  0  0  0  0  0  0  0  0  0  0  0  1  2  2  2  2 78  2  5  6\n",
      "  2  2  2  2 26  4  2  8  2  2 14  2 20 13  2  2  2  2  5  2  2  2 21 14\n",
      " 69  2  8 30 23  7  4  2  2 93  4  2  9  2  2  5  2  4  2  9 35  2  4  2\n",
      "  9  2  2  4  2  9  4  2  2 19  4  2  5 89 29  2 46 37  4  2  9 45 43 38\n",
      "  2  2  2  4  2 26  2  5  2 11  2  2  4  2  9  2  2  7  2  2  2  2  2  2\n",
      "  2  2 15  2  2 68  2  2 15  2  2  2 98  5  4  2  9 43  2  2 15  2  2  5\n",
      "  2  2 11  2  2  2 50  9  2  2  2  5  2  2  2  2  5  4  2  2  2  2 18  2\n",
      " 32  2  2 14  9  6  2 78 22  2 64  2  9  8  2  2 23  4  2 15 16  4  2  5\n",
      " 28  6 52  2  2 33 89 78  2 16  2 95]\n"
     ]
    }
   ],
   "source": [
    "# pad input sequences to have all reviews of equal length\n",
    "\n",
    "max_length_review=300\n",
    "\n",
    "X_train=sequence.pad_sequences(X_train,max_length_review) # length of X_train will be 300 now not 189\n",
    "\n",
    "X_test=sequence.pad_sequences(X_test,max_length_review)\n",
    "\n",
    "\n",
    "print(X_train.shape)\n",
    "print(X_train[1])\n"
   ]
  },
  {
   "cell_type": "markdown",
   "metadata": {},
   "source": [
    "# Outlining Model"
   ]
  },
  {
   "cell_type": "code",
   "execution_count": 13,
   "metadata": {},
   "outputs": [
    {
     "name": "stdout",
     "output_type": "stream",
     "text": [
      "_________________________________________________________________\n",
      "Layer (type)                 Output Shape              Param #   \n",
      "=================================================================\n",
      "embedding_1 (Embedding)      (None, 300, 32)           3232      \n",
      "_________________________________________________________________\n",
      "lstm_1 (LSTM)                (None, 100)               53200     \n",
      "_________________________________________________________________\n",
      "dense_1 (Dense)              (None, 1)                 101       \n",
      "=================================================================\n",
      "Total params: 56,533\n",
      "Trainable params: 56,533\n",
      "Non-trainable params: 0\n",
      "_________________________________________________________________\n",
      "None\n"
     ]
    }
   ],
   "source": [
    "embedding_vector_length=32\n",
    "\n",
    "model=Sequential()\n",
    "\n",
    "# embedding layer is ust like word2vec.Reason for not using word2vec is that it's not learned as a part of model.\n",
    "\n",
    "#Embedding layers is learned as a part of model\n",
    "\n",
    "model.add(Embedding(top_words+1,embedding_vector_length,input_length=max_length_review))\n",
    "\n",
    "model.add(LSTM(100))\n",
    "\n",
    "model.add(Dense(1,activation='sigmoid'))\n",
    "\n",
    "model.compile(loss='binary_crossentropy',optimizer='adam',metrics=['accuracy'])\n",
    "\n",
    "print(model.summary())"
   ]
  },
  {
   "cell_type": "markdown",
   "metadata": {},
   "source": [
    "# Train"
   ]
  },
  {
   "cell_type": "code",
   "execution_count": 16,
   "metadata": {},
   "outputs": [
    {
     "name": "stderr",
     "output_type": "stream",
     "text": [
      "C:\\Users\\S BL\\Anaconda3\\lib\\site-packages\\keras\\models.py:942: UserWarning: The `nb_epoch` argument in `fit` has been renamed `epochs`.\n",
      "  warnings.warn('The `nb_epoch` argument in `fit` '\n"
     ]
    },
    {
     "name": "stdout",
     "output_type": "stream",
     "text": [
      "Epoch 1/4\n",
      "25000/25000 [==============================] - 409s 16ms/step - loss: 0.6467 - acc: 0.6196\n",
      "Epoch 2/4\n",
      "25000/25000 [==============================] - 475s 19ms/step - loss: 0.6020 - acc: 0.6768\n",
      "Epoch 3/4\n",
      "25000/25000 [==============================] - 387s 15ms/step - loss: 0.5843 - acc: 0.6943\n",
      "Epoch 4/4\n",
      "25000/25000 [==============================] - 370s 15ms/step - loss: 0.5663 - acc: 0.7098\n",
      "Accuracy: 72.92%\n"
     ]
    }
   ],
   "source": [
    "model.fit(X_train,y_train,epochs=4,batch_size=64)\n",
    "\n",
    "scores=model.evaluate(X_test,y_test,verbose=0)\n",
    "scores = model.evaluate(X_test, y_test, verbose=0)\n",
    "print(\"Accuracy: %.2f%%\" % (scores[1]*100))\n",
    "#print('Accuracy : %.2f%%' % ((scores[1]*100))"
   ]
  },
  {
   "cell_type": "code",
   "execution_count": null,
   "metadata": {},
   "outputs": [],
   "source": []
  }
 ],
 "metadata": {
  "kernelspec": {
   "display_name": "Python 3",
   "language": "python",
   "name": "python3"
  },
  "language_info": {
   "codemirror_mode": {
    "name": "ipython",
    "version": 3
   },
   "file_extension": ".py",
   "mimetype": "text/x-python",
   "name": "python",
   "nbconvert_exporter": "python",
   "pygments_lexer": "ipython3",
   "version": "3.6.5"
  }
 },
 "nbformat": 4,
 "nbformat_minor": 2
}
